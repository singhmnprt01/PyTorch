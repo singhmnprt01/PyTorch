{
 "cells": [
  {
   "cell_type": "markdown",
   "id": "290750e6-87bd-4899-b8cc-753d96809b18",
   "metadata": {},
   "source": [
    "## Deep Neural Network in PyTorch - Tabular Data"
   ]
  },
  {
   "cell_type": "code",
   "execution_count": null,
   "id": "173cd6b5-4c04-4849-9f64-6b2a4c13d578",
   "metadata": {},
   "outputs": [],
   "source": [
    "import pandas as pd\n",
    "import numpy as np\n",
    "\n",
    "from sklearn.model_selection import train_test_split\n",
    "from sklearn.preprocessing import StandardScaler\n",
    "import torch\n",
    "import torch.nn as nn\n",
    "import torch.utils.data as data_utils \n",
    "from torch.utils.tensorboard import SummaryWriter\n",
    "\n",
    "\n",
    "import itertools\n",
    "\n",
    "import warnings\n",
    "warnings.filterwarnings(\"ignore\")\n",
    "\n",
    "pd.options.display.max_rows=100\n",
    "pd.options.display.max_columns=100"
   ]
  },
  {
   "cell_type": "code",
   "execution_count": 34,
   "id": "fe597591-adf7-4239-8852-9331ab9079aa",
   "metadata": {},
   "outputs": [],
   "source": [
    "data = pd.read_csv(\"creditcard.csv\")"
   ]
  },
  {
   "cell_type": "code",
   "execution_count": 35,
   "id": "22851f4d-27e5-44b6-a5fa-7b0d68279ec0",
   "metadata": {},
   "outputs": [
    {
     "data": {
      "text/plain": [
       "False"
      ]
     },
     "execution_count": 35,
     "metadata": {},
     "output_type": "execute_result"
    }
   ],
   "source": [
    "data.isnull().values.any()"
   ]
  },
  {
   "cell_type": "code",
   "execution_count": 36,
   "id": "027bbcbb-f033-4045-ba4a-a188aaa0c753",
   "metadata": {},
   "outputs": [
    {
     "data": {
      "text/plain": [
       "0    99.827251\n",
       "1     0.172749\n",
       "Name: Class, dtype: float64"
      ]
     },
     "execution_count": 36,
     "metadata": {},
     "output_type": "execute_result"
    }
   ],
   "source": [
    "data['Class'].value_counts() / len(data) *100"
   ]
  },
  {
   "cell_type": "code",
   "execution_count": 37,
   "id": "18e49aab-13d4-4547-ab55-2c08334b13bd",
   "metadata": {},
   "outputs": [],
   "source": [
    "data.drop(['Time'],inplace=True,axis=1)"
   ]
  },
  {
   "cell_type": "code",
   "execution_count": 38,
   "id": "6d4969dc-3232-471f-8266-2947783c12e3",
   "metadata": {},
   "outputs": [],
   "source": [
    "data['Amount'] = StandardScaler().fit_transform(data['Amount'].values.reshape(-1,1))\n",
    "## purpose -1 is when you don't know the shape !"
   ]
  },
  {
   "cell_type": "code",
   "execution_count": 39,
   "id": "d531abd4-59f8-4315-a4e0-1be41d0514da",
   "metadata": {},
   "outputs": [],
   "source": [
    "x_data = data.loc[:,data.columns!='Class']\n",
    "y_data = data.loc[:,data.columns=='Class']"
   ]
  },
  {
   "cell_type": "code",
   "execution_count": 54,
   "id": "d2d77010-bfc3-49eb-9ba1-39e2b5e3ad82",
   "metadata": {},
   "outputs": [],
   "source": [
    "x_train,x_test,y_train, y_test = train_test_split(x_data,y_data,test_size=.2, stratify=y_data)"
   ]
  },
  {
   "cell_type": "code",
   "execution_count": 55,
   "id": "1f1d7cc7-287d-4a79-ab08-a5d01b65b659",
   "metadata": {},
   "outputs": [],
   "source": [
    "x_train.reset_index(drop=True, inplace=True)\n",
    "y_train.reset_index(drop=True, inplace=True)\n",
    "x_test.reset_index(drop=True, inplace=True)\n",
    "y_test.reset_index(drop=True, inplace=True)"
   ]
  },
  {
   "cell_type": "code",
   "execution_count": 56,
   "id": "63351373-8af1-43af-b885-0aad1652ad40",
   "metadata": {},
   "outputs": [
    {
     "data": {
      "text/plain": [
       "((227845, 29), (56962, 29), (227845, 1), (56962, 1))"
      ]
     },
     "execution_count": 56,
     "metadata": {},
     "output_type": "execute_result"
    }
   ],
   "source": [
    "x_train.shape, x_test.shape, y_train.shape, y_test.shape"
   ]
  },
  {
   "cell_type": "code",
   "execution_count": 57,
   "id": "b0bce263-5ccb-4586-ba64-0246feabb4a8",
   "metadata": {},
   "outputs": [],
   "source": [
    "x_train_dataset = torch.tensor(x_train.values.astype(np.float32))\n",
    "x_test_dataset = torch.tensor(x_test.values.astype(np.float32))\n"
   ]
  },
  {
   "cell_type": "code",
   "execution_count": 58,
   "id": "0be0b90e-1869-4309-9675-7e87b6e04bdc",
   "metadata": {},
   "outputs": [
    {
     "data": {
      "text/plain": [
       "(torch.Size([227845, 29]), torch.Size([56962, 29]))"
      ]
     },
     "execution_count": 58,
     "metadata": {},
     "output_type": "execute_result"
    }
   ],
   "source": [
    "x_train_dataset.shape, x_test_dataset.shape"
   ]
  },
  {
   "cell_type": "code",
   "execution_count": 66,
   "id": "668e342c-4297-47a7-874e-1ff73d18e78e",
   "metadata": {},
   "outputs": [
    {
     "data": {
      "text/plain": [
       "tensor([[-0.7354,  1.3289,  0.9788,  2.6665,  1.0574,  0.7564,  0.6604,  0.3192,\n",
       "         -1.2633,  1.2117, -0.1439, -0.6406, -1.8544,  0.2604, -2.2951,  0.6518,\n",
       "         -0.7094,  0.2060, -1.2517, -0.2179,  0.1190,  0.3273, -0.3052,  0.6546,\n",
       "          0.3442,  0.0659, -0.0323,  0.0650, -0.3219]])"
      ]
     },
     "execution_count": 66,
     "metadata": {},
     "output_type": "execute_result"
    }
   ],
   "source": [
    "x_train_dataset[0:1]"
   ]
  },
  {
   "cell_type": "code",
   "execution_count": 63,
   "id": "806761c7-336a-4a24-a221-dfc66bb7d9e7",
   "metadata": {},
   "outputs": [],
   "source": [
    "y_train_dataset = torch.tensor(y_train.values.astype(np.float32))\n",
    "y_test_dataset = torch.tensor(y_test.values.astype(np.float32))"
   ]
  },
  {
   "cell_type": "code",
   "execution_count": 64,
   "id": "d7ba44f1-81d9-4c49-83e4-9b4ddfecd89e",
   "metadata": {},
   "outputs": [
    {
     "data": {
      "text/plain": [
       "(torch.Size([227845, 1]), torch.Size([56962, 1]))"
      ]
     },
     "execution_count": 64,
     "metadata": {},
     "output_type": "execute_result"
    }
   ],
   "source": [
    "y_train_dataset.shape, y_test_dataset.shape"
   ]
  },
  {
   "cell_type": "code",
   "execution_count": 67,
   "id": "bc109160-cbb5-482a-90c2-c92de331572b",
   "metadata": {},
   "outputs": [
    {
     "data": {
      "text/plain": [
       "tensor([[0.]])"
      ]
     },
     "execution_count": 67,
     "metadata": {},
     "output_type": "execute_result"
    }
   ],
   "source": [
    "y_train_dataset[0:1]"
   ]
  },
  {
   "cell_type": "code",
   "execution_count": null,
   "id": "0ca94e4b-0ed6-4c5c-8f52-144430e3c6c0",
   "metadata": {},
   "outputs": [],
   "source": [
    "## Datasets and Dataloaders in PyTorch:\n",
    "\"\"\"\n",
    "Dataset stores the samples and their corresponding labels.\n",
    "DataLoader wraps an iterable around the Dataset to enable easy access to the samples.\n",
    "\n",
    "These 2 libraries also allow you to download and prepare pre-loaded datasets from PyTorch\n",
    "\n",
    "The Dataset retrieves our dataset’s features and labels one sample at a time. While training a model, we typically want to pass samples in “minibatches”, \n",
    "reshuffle the data at every epoch to reduce model overfitting, and use Python’s multiprocessing to speed up data retrieval.\n",
    "DataLoader is an iterable that abstracts this complexity for us in an easy API."
   ]
  },
  {
   "cell_type": "code",
   "execution_count": 71,
   "id": "9b7bb02d-25a9-4cc3-834b-8d4da77afbfc",
   "metadata": {},
   "outputs": [],
   "source": [
    "train_dataset = data_utils.TensorDataset(x_train_dataset, y_train_dataset)\n",
    "test_dataset = data_utils.TensorDataset(x_test_dataset, y_test_dataset)"
   ]
  },
  {
   "cell_type": "code",
   "execution_count": 72,
   "id": "3676810d-1b45-4807-b203-9d86005d8e8d",
   "metadata": {},
   "outputs": [
    {
     "data": {
      "text/plain": [
       "<torch.utils.data.dataset.TensorDataset at 0x1d124c88dc0>"
      ]
     },
     "execution_count": 72,
     "metadata": {},
     "output_type": "execute_result"
    }
   ],
   "source": [
    "train_dataset"
   ]
  },
  {
   "cell_type": "code",
   "execution_count": 177,
   "id": "f2d31562-2fbd-4a01-96e6-5b9cefd7add5",
   "metadata": {},
   "outputs": [],
   "source": [
    "train_dataloader = data_utils.DataLoader(train_dataset, batch_size = 256 )\n",
    "test_dataloader = data_utils.DataLoader(test_dataset, batch_size = 256)"
   ]
  },
  {
   "cell_type": "code",
   "execution_count": 178,
   "id": "4a9c7490-06d8-4505-b0cd-6151339f0e37",
   "metadata": {},
   "outputs": [
    {
     "data": {
      "text/plain": [
       "<torch.utils.data.dataloader.DataLoader at 0x1d12f70b730>"
      ]
     },
     "execution_count": 178,
     "metadata": {},
     "output_type": "execute_result"
    }
   ],
   "source": [
    "train_dataloader"
   ]
  },
  {
   "cell_type": "code",
   "execution_count": 179,
   "id": "67301e4e-4db7-429f-ac5c-03637c08c572",
   "metadata": {},
   "outputs": [],
   "source": [
    "example = iter(train_dataloader)"
   ]
  },
  {
   "cell_type": "code",
   "execution_count": 180,
   "id": "e53a1ea2-a6db-4925-92bb-eee051e5dc88",
   "metadata": {},
   "outputs": [],
   "source": [
    "samples, labels = example.next()"
   ]
  },
  {
   "cell_type": "code",
   "execution_count": 181,
   "id": "1091d2ed-69cf-4c79-a5bd-cdc798118f72",
   "metadata": {},
   "outputs": [
    {
     "data": {
      "text/plain": [
       "torch.Size([256, 29])"
      ]
     },
     "execution_count": 181,
     "metadata": {},
     "output_type": "execute_result"
    }
   ],
   "source": [
    "samples.shape ## 32 is the bathc_size"
   ]
  },
  {
   "cell_type": "code",
   "execution_count": 182,
   "id": "1019646c-ae15-4dce-85c9-0cb81491c65d",
   "metadata": {},
   "outputs": [
    {
     "data": {
      "text/plain": [
       "torch.Size([256, 1])"
      ]
     },
     "execution_count": 182,
     "metadata": {},
     "output_type": "execute_result"
    }
   ],
   "source": [
    "labels.shape"
   ]
  },
  {
   "cell_type": "code",
   "execution_count": 183,
   "id": "2595f103-bf14-44e3-844a-d7e6e4f23d8b",
   "metadata": {},
   "outputs": [
    {
     "data": {
      "text/plain": [
       "(tensor([[0.],\n",
       "         [0.],\n",
       "         [0.],\n",
       "         [0.],\n",
       "         [0.]]),\n",
       "    Class\n",
       " 0      0\n",
       " 1      0\n",
       " 2      0\n",
       " 3      0\n",
       " 4      0)"
      ]
     },
     "execution_count": 183,
     "metadata": {},
     "output_type": "execute_result"
    }
   ],
   "source": [
    "labels[0:5], y_train[0:5]"
   ]
  },
  {
   "cell_type": "code",
   "execution_count": 184,
   "id": "b906ff97-8b84-4001-af38-1ee20f8bb345",
   "metadata": {},
   "outputs": [
    {
     "data": {
      "text/plain": [
       "(tensor([-0.7354,  1.3289,  0.9788,  2.6665,  1.0574,  0.7564,  0.6604,  0.3192,\n",
       "         -1.2633,  1.2117, -0.1439, -0.6406, -1.8544,  0.2604, -2.2951,  0.6518,\n",
       "         -0.7094,  0.2060, -1.2517, -0.2179,  0.1190,  0.3273, -0.3052,  0.6546,\n",
       "          0.3442,  0.0659, -0.0323,  0.0650, -0.3219]),\n",
       " tensor([-0.7354,  1.3289,  0.9788,  2.6665,  1.0574,  0.7564,  0.6604,  0.3192,\n",
       "         -1.2633,  1.2117, -0.1439, -0.6406, -1.8544,  0.2604, -2.2951,  0.6518,\n",
       "         -0.7094,  0.2060, -1.2517, -0.2179,  0.1190,  0.3273, -0.3052,  0.6546,\n",
       "          0.3442,  0.0659, -0.0323,  0.0650, -0.3219]))"
      ]
     },
     "execution_count": 184,
     "metadata": {},
     "output_type": "execute_result"
    }
   ],
   "source": [
    "samples[0], x_train_dataset[0] \n",
    "\n",
    "## NOTE Shuffle isn't True while prepareing the dataloader. If shuffle is true, then this wouldn't match"
   ]
  },
  {
   "cell_type": "code",
   "execution_count": null,
   "id": "9a35a109-8c92-41af-8c93-26f02f5b03ee",
   "metadata": {},
   "outputs": [],
   "source": []
  },
  {
   "cell_type": "code",
   "execution_count": 185,
   "id": "ccf402e1-fe8d-433d-a2ac-7f5beeb00206",
   "metadata": {},
   "outputs": [],
   "source": [
    "input_size = x_train.shape[1]\n",
    "hidden_size = 100\n",
    "num_epochs = 2\n",
    "batch_size = 2891*256\n",
    "learning_rate = .001"
   ]
  },
  {
   "cell_type": "code",
   "execution_count": null,
   "id": "b8fa9808-9f21-4c89-a791-2e4c79dc8f2b",
   "metadata": {},
   "outputs": [],
   "source": []
  },
  {
   "cell_type": "code",
   "execution_count": 259,
   "id": "86252414-f812-43f6-833f-3b492a65647f",
   "metadata": {},
   "outputs": [],
   "source": [
    "class DeepNeuralNet(nn.Module):\n",
    "    def __init__(self, input_size, hidden_size):\n",
    "        super(DeepNeuralNet,self).__init__()\n",
    "        self.l1 = nn.Linear(input_size, hidden_size)\n",
    "        self.relu1= nn.ReLU()\n",
    "        self.l2 = nn.Linear(hidden_size, int(hidden_size/2))\n",
    "        self.relu2= nn.ReLU()\n",
    "        hidden_size = int(hidden_size/2)\n",
    "        self.l3 = nn.Linear(hidden_size,1)\n",
    "        ## In mulitclas with pyTorch, we don't define the softmax layer since it is taken care by the loss function, which is cross-entropy\n",
    " \n",
    "    def forward(self, x):\n",
    "        out = self.l1(x)\n",
    "        out = self.relu1(out)\n",
    "        out = self.l2(out)\n",
    "        out = self.relu2(out)\n",
    "        out = self.l3(out)\n",
    "        y_pred = torch.sigmoid(out)\n",
    "        return y_pred"
   ]
  },
  {
   "cell_type": "code",
   "execution_count": 260,
   "id": "15519024-a022-4b00-9733-4d9f81519452",
   "metadata": {},
   "outputs": [],
   "source": [
    "mymodel = DeepNeuralNet(input_size,hidden_size)"
   ]
  },
  {
   "cell_type": "code",
   "execution_count": 261,
   "id": "91e3509f-3ae8-4cb3-bcae-c9d756198160",
   "metadata": {},
   "outputs": [
    {
     "data": {
      "text/plain": [
       "DeepNeuralNet(\n",
       "  (l1): Linear(in_features=29, out_features=100, bias=True)\n",
       "  (relu1): ReLU()\n",
       "  (l2): Linear(in_features=100, out_features=50, bias=True)\n",
       "  (relu2): ReLU()\n",
       "  (l3): Linear(in_features=50, out_features=1, bias=True)\n",
       ")"
      ]
     },
     "execution_count": 261,
     "metadata": {},
     "output_type": "execute_result"
    }
   ],
   "source": [
    "mymodel"
   ]
  },
  {
   "cell_type": "code",
   "execution_count": 262,
   "id": "8e53bdae-ec53-4cc5-a324-c0c7cea75616",
   "metadata": {},
   "outputs": [
    {
     "data": {
      "text/plain": [
       "<bound method Module.parameters of DeepNeuralNet(\n",
       "  (l1): Linear(in_features=29, out_features=100, bias=True)\n",
       "  (relu1): ReLU()\n",
       "  (l2): Linear(in_features=100, out_features=50, bias=True)\n",
       "  (relu2): ReLU()\n",
       "  (l3): Linear(in_features=50, out_features=1, bias=True)\n",
       ")>"
      ]
     },
     "execution_count": 262,
     "metadata": {},
     "output_type": "execute_result"
    }
   ],
   "source": [
    "mymodel.parameters"
   ]
  },
  {
   "cell_type": "code",
   "execution_count": 263,
   "id": "77ab6bb6-7721-4654-8555-9dd1a53dc5cf",
   "metadata": {},
   "outputs": [],
   "source": [
    "criterion = nn.BCELoss() ## Binary Cross Entropy Loss\n",
    "optimizer = torch.optim.Adam(mymodel.parameters(),lr = learning_rate)"
   ]
  },
  {
   "cell_type": "code",
   "execution_count": 289,
   "id": "7efac765-c0f4-420f-91ff-0a17814a4166",
   "metadata": {},
   "outputs": [
    {
     "data": {
      "text/plain": [
       "890.01953125"
      ]
     },
     "execution_count": 289,
     "metadata": {},
     "output_type": "execute_result"
    }
   ],
   "source": [
    "x_train_dataset.shape[0]/256 ## meaning 890 batches"
   ]
  },
  {
   "cell_type": "code",
   "execution_count": 264,
   "id": "5bde1fae-2db2-45ab-a38c-dd6262f02de1",
   "metadata": {},
   "outputs": [
    {
     "data": {
      "text/plain": [
       "891"
      ]
     },
     "execution_count": 264,
     "metadata": {},
     "output_type": "execute_result"
    }
   ],
   "source": [
    "n_total_steps = len(train_dataloader)\n",
    "n_total_steps"
   ]
  },
  {
   "cell_type": "code",
   "execution_count": 280,
   "id": "f68fdc9c-26c6-4fbf-be43-2d3f6470a1ab",
   "metadata": {},
   "outputs": [
    {
     "data": {
      "text/plain": [
       "<torch.utils.tensorboard.writer.SummaryWriter at 0x1d12ab38220>"
      ]
     },
     "execution_count": 280,
     "metadata": {},
     "output_type": "execute_result"
    }
   ],
   "source": [
    "writer"
   ]
  },
  {
   "cell_type": "code",
   "execution_count": 295,
   "id": "2e44aadb-a940-40e9-9925-f91c37745cee",
   "metadata": {},
   "outputs": [
    {
     "name": "stdout",
     "output_type": "stream",
     "text": [
      "1 of 2 ; step: 100 of 891 ; loss = 0.0080\n",
      "1 of 2 ; step: 200 of 891 ; loss = 0.0000\n",
      "1 of 2 ; step: 300 of 891 ; loss = 0.0000\n",
      "1 of 2 ; step: 400 of 891 ; loss = 0.0001\n",
      "1 of 2 ; step: 500 of 891 ; loss = 0.0003\n",
      "1 of 2 ; step: 600 of 891 ; loss = 0.0000\n",
      "1 of 2 ; step: 700 of 891 ; loss = 0.0001\n",
      "1 of 2 ; step: 800 of 891 ; loss = 0.0001\n",
      "891\n",
      "2 of 2 ; step: 100 of 891 ; loss = 0.0081\n",
      "2 of 2 ; step: 200 of 891 ; loss = 0.0000\n",
      "2 of 2 ; step: 300 of 891 ; loss = 0.0000\n",
      "2 of 2 ; step: 400 of 891 ; loss = 0.0001\n",
      "2 of 2 ; step: 500 of 891 ; loss = 0.0003\n",
      "2 of 2 ; step: 600 of 891 ; loss = 0.0000\n",
      "2 of 2 ; step: 700 of 891 ; loss = 0.0001\n",
      "2 of 2 ; step: 800 of 891 ; loss = 0.0001\n",
      "1782\n"
     ]
    }
   ],
   "source": [
    "count=0\n",
    "writer = SummaryWriter()\n",
    "for epoch in range(num_epochs):\n",
    "    for i,(x_data, labels) in enumerate(train_dataloader):\n",
    "        count+=1\n",
    "        y_predicted = mymodel(x_data) ## forward propagation\n",
    "        \n",
    "        loss = criterion(y_predicted,labels) ## loss calculation\n",
    "        writer.add_scalar(\"Loss/train\", loss, epoch)\n",
    "        \n",
    "        optimizer.zero_grad() ## Empty the gradients\n",
    "        \n",
    "        loss.backward() ## backward propagation\n",
    "    \n",
    "        optimizer.step() ## update the weights\n",
    "        \n",
    "        if (i+1)%100 == 0:\n",
    "                print(f'{epoch+1} of {num_epochs} ; step: {i+1} of {n_total_steps} ; loss = {loss.item():.4f}')\n",
    "    print(count)\n",
    "writer.flush()\n",
    "writer.close()"
   ]
  },
  {
   "cell_type": "code",
   "execution_count": 300,
   "id": "1926cdbd-5dda-4cb8-a722-747a5af32e0e",
   "metadata": {},
   "outputs": [
    {
     "data": {
      "text/plain": [
       "torch.Size([5, 1])"
      ]
     },
     "execution_count": 300,
     "metadata": {},
     "output_type": "execute_result"
    }
   ],
   "source": [
    "y_predicted.shape"
   ]
  },
  {
   "cell_type": "code",
   "execution_count": 303,
   "id": "c0590eb7-4954-40ae-841c-5dffe5d9fc0b",
   "metadata": {},
   "outputs": [
    {
     "data": {
      "text/plain": [
       "float"
      ]
     },
     "execution_count": 303,
     "metadata": {},
     "output_type": "execute_result"
    }
   ],
   "source": [
    "type(y_predicted[0].item())"
   ]
  },
  {
   "cell_type": "code",
   "execution_count": 296,
   "id": "c9c70886-5ec1-4951-9491-7c41d86f2ca8",
   "metadata": {},
   "outputs": [
    {
     "data": {
      "text/plain": [
       "1782"
      ]
     },
     "execution_count": 296,
     "metadata": {},
     "output_type": "execute_result"
    }
   ],
   "source": [
    "count"
   ]
  },
  {
   "cell_type": "code",
   "execution_count": 266,
   "id": "1d2baa5f-d30d-4ead-a8ce-5268325c3876",
   "metadata": {},
   "outputs": [
    {
     "data": {
      "text/plain": [
       "tensor([ 1.7079,  0.0249, -0.4881,  3.7875,  1.1395,  2.9147, -0.7434,  0.6991,\n",
       "         1.0085,  0.9128,  0.7654, -2.0439,  1.0015,  1.3229, -2.7201, -0.1534,\n",
       "         0.7526, -0.7558, -1.9126, -0.3680,  0.0109,  0.5483,  0.0912, -1.0080,\n",
       "        -0.0822,  0.1797,  0.0077, -0.0688, -0.2183])"
      ]
     },
     "execution_count": 266,
     "metadata": {},
     "output_type": "execute_result"
    }
   ],
   "source": [
    "x_test_dataset[637]"
   ]
  },
  {
   "cell_type": "code",
   "execution_count": 267,
   "id": "a92db895-4a49-44b6-9ff7-2e944532ca5c",
   "metadata": {},
   "outputs": [],
   "source": [
    "## Test Prediction\n",
    "pred_list=[]\n",
    "with torch.no_grad():\n",
    "    for samples,labels in test_dataloader:\n",
    "        outputs = mymodel(samples)\n",
    "        \n",
    "        predictions,_ = torch.max(outputs,1)\n",
    "        predict_batch_list = list(predictions.detach().numpy())\n",
    "        pred_list.append(predict_batch_list)\n",
    "        \n",
    "pred_list_final = list(itertools.chain(*pred_list))           "
   ]
  },
  {
   "cell_type": "code",
   "execution_count": 268,
   "id": "8587a640-772d-4d6d-8636-e4377ab85b86",
   "metadata": {},
   "outputs": [
    {
     "data": {
      "text/plain": [
       "56962"
      ]
     },
     "execution_count": 268,
     "metadata": {},
     "output_type": "execute_result"
    }
   ],
   "source": [
    "len(pred_list_final)"
   ]
  },
  {
   "cell_type": "code",
   "execution_count": 269,
   "id": "cf9a7d51-5a48-45d7-8406-9cdb975f8c66",
   "metadata": {},
   "outputs": [
    {
     "data": {
      "text/plain": [
       "(56962, 29)"
      ]
     },
     "execution_count": 269,
     "metadata": {},
     "output_type": "execute_result"
    }
   ],
   "source": [
    "x_test.shape"
   ]
  },
  {
   "cell_type": "code",
   "execution_count": 270,
   "id": "338496dc-8560-4b23-9195-a6a2691c7558",
   "metadata": {},
   "outputs": [],
   "source": [
    "from sklearn.metrics import roc_auc_score"
   ]
  },
  {
   "cell_type": "code",
   "execution_count": 271,
   "id": "c82f1a52-55f9-47e2-bc5e-12d7e267b667",
   "metadata": {},
   "outputs": [
    {
     "data": {
      "text/plain": [
       "0.973344743778209"
      ]
     },
     "execution_count": 271,
     "metadata": {},
     "output_type": "execute_result"
    }
   ],
   "source": [
    "roc_auc_score(y_test_dataset,pred_list_final)"
   ]
  },
  {
   "cell_type": "code",
   "execution_count": null,
   "id": "13ad3f84-0ea3-4dd2-9dc5-5e049ad5bb7d",
   "metadata": {},
   "outputs": [],
   "source": []
  },
  {
   "cell_type": "code",
   "execution_count": 273,
   "id": "007c9aee-753a-48c9-9bd2-4fc2735a55ff",
   "metadata": {},
   "outputs": [],
   "source": [
    "## TensorBoard"
   ]
  },
  {
   "cell_type": "code",
   "execution_count": null,
   "id": "9cc32938-d547-4560-be3b-d2dcb49133a2",
   "metadata": {},
   "outputs": [],
   "source": [
    "\"\"\"\n",
    "Note: Having TensorFlow installed is not a prerequisite to running TensorBoard, although it is a product of the TensorFlow ecosystem, \n",
    "TensorBoard by itself can be used with PyTorch.\n"
   ]
  },
  {
   "cell_type": "code",
   "execution_count": 274,
   "id": "d1a3e5e7-b2c7-4639-8300-99473dd0c3e4",
   "metadata": {},
   "outputs": [],
   "source": [
    "from torch.utils.tensorboard import SummaryWriter"
   ]
  },
  {
   "cell_type": "code",
   "execution_count": null,
   "id": "44ef3b7c-3037-4fe3-97ee-1864610033b9",
   "metadata": {},
   "outputs": [],
   "source": []
  },
  {
   "cell_type": "code",
   "execution_count": null,
   "id": "85e4714f-369d-4f14-893f-51212e33aab5",
   "metadata": {},
   "outputs": [],
   "source": []
  },
  {
   "cell_type": "code",
   "execution_count": 275,
   "id": "95cd6cd9-5657-4b73-b5e6-f4fc8a0cca67",
   "metadata": {},
   "outputs": [
    {
     "name": "stdout",
     "output_type": "stream",
     "text": [
      "^C\n"
     ]
    }
   ],
   "source": [
    "!tensorboard --logdir runs"
   ]
  },
  {
   "cell_type": "code",
   "execution_count": null,
   "id": "98540f1e-a352-423b-923d-0babdd58b25d",
   "metadata": {},
   "outputs": [],
   "source": [
    "## Backup & Experiment"
   ]
  },
  {
   "cell_type": "code",
   "execution_count": null,
   "id": "207d6236-36d6-48bf-ae56-12da23e79ba4",
   "metadata": {},
   "outputs": [
    {
     "data": {
      "text/plain": [
       "tensor([1.])"
      ]
     },
     "execution_count": 220,
     "metadata": {},
     "output_type": "execute_result"
    }
   ],
   "source": [
    "y_train_dataset[820]"
   ]
  },
  {
   "cell_type": "code",
   "execution_count": 221,
   "id": "8b5d8203-87f7-4c6c-8c5b-e410148c7ca1",
   "metadata": {},
   "outputs": [
    {
     "data": {
      "text/plain": [
       "tensor([0.9731], grad_fn=<SigmoidBackward0>)"
      ]
     },
     "execution_count": 221,
     "metadata": {},
     "output_type": "execute_result"
    }
   ],
   "source": [
    "mymodel(x_train_dataset[820])"
   ]
  },
  {
   "cell_type": "code",
   "execution_count": 231,
   "id": "1b343e23-de20-4347-b96e-80d83d6fd79f",
   "metadata": {},
   "outputs": [
    {
     "data": {
      "text/plain": [
       "tensor([[9.7308e-01],\n",
       "        [1.7608e-05],\n",
       "        [5.2655e-05]], grad_fn=<SigmoidBackward0>)"
      ]
     },
     "execution_count": 231,
     "metadata": {},
     "output_type": "execute_result"
    }
   ],
   "source": [
    "mymodel(x_train_dataset[820:823])"
   ]
  },
  {
   "cell_type": "code",
   "execution_count": null,
   "id": "4edc7cb1-9c0d-417e-919c-393b38fa764a",
   "metadata": {},
   "outputs": [
    {
     "data": {
      "text/plain": [
       "torch.return_types.max(\n",
       "values=tensor([9.7308e-01, 1.7608e-05, 5.2655e-05], grad_fn=<MaxBackward0>),\n",
       "indices=tensor([0, 0, 0]))"
      ]
     },
     "execution_count": 236,
     "metadata": {},
     "output_type": "execute_result"
    }
   ],
   "source": [
    "torch.max(mymodel(x_train_dataset[820:823]),1)"
   ]
  },
  {
   "cell_type": "code",
   "execution_count": null,
   "id": "13cb592f-998c-4069-9d5f-abcccd25de8b",
   "metadata": {},
   "outputs": [],
   "source": [
    "_,x=torch.max(mymodel(x_train_dataset[820:823]),1)"
   ]
  },
  {
   "cell_type": "code",
   "execution_count": null,
   "id": "c88f4d98-9458-4cc5-a4c0-8d900d3dfdc3",
   "metadata": {},
   "outputs": [
    {
     "data": {
      "text/plain": [
       "[0.97308254, 1.7608267e-05, 5.2654636e-05]"
      ]
     },
     "execution_count": 242,
     "metadata": {},
     "output_type": "execute_result"
    }
   ],
   "source": [
    "list(_.detach().numpy())"
   ]
  },
  {
   "cell_type": "code",
   "execution_count": null,
   "id": "4f449367-c1dc-40dd-acf3-1b7338bac979",
   "metadata": {},
   "outputs": [],
   "source": []
  }
 ],
 "metadata": {
  "kernelspec": {
   "display_name": "Python 3 (ipykernel)",
   "language": "python",
   "name": "python3"
  },
  "language_info": {
   "codemirror_mode": {
    "name": "ipython",
    "version": 3
   },
   "file_extension": ".py",
   "mimetype": "text/x-python",
   "name": "python",
   "nbconvert_exporter": "python",
   "pygments_lexer": "ipython3",
   "version": "3.8.13"
  }
 },
 "nbformat": 4,
 "nbformat_minor": 5
}
